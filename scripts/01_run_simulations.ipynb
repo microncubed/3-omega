{
 "cells": [
  {
   "cell_type": "markdown",
   "metadata": {},
   "source": [
    "# 01_run_simulations\n",
    "\n",
    "\n",
    "## Imports, define model"
   ]
  },
  {
   "cell_type": "code",
   "execution_count": 1,
   "metadata": {},
   "outputs": [
    {
     "name": "stdout",
     "output_type": "stream",
     "text": [
      "glass_True\n"
     ]
    }
   ],
   "source": [
    "import os\n",
    "import sys\n",
    "%matplotlib inline\n",
    "import matplotlib.pyplot as plt\n",
    "plt.rcParams['font.size']=16\n",
    "import numpy as np\n",
    "from matplotlib.colors import LogNorm\n",
    "import csv\n",
    "\n",
    "from scipy.optimize import curve_fit\n",
    "import scipy.special as special\n",
    "from scipy import integrate\n",
    "\n",
    "path = os.getcwd()\n",
    "basepath = os.path.dirname(path)\n",
    "datapath = basepath+'/data'\n",
    "figpath = basepath+'/figures'\n",
    "srcpath =  basepath +'/src'\n",
    "\n",
    "if srcpath not in sys.path:\n",
    "    sys.path.append(srcpath)\n",
    "\n",
    "import models\n",
    "from pdeSim import PoissonFlow2D    \n",
    "\n",
    "half_width = 5\n",
    "glass = True\n",
    "\n",
    "#Save details\n",
    "save_file = True\n",
    "save_name = 'glass_'+ str(glass)\n",
    "print(save_name)\n",
    "\n",
    "#Import the model\n",
    "k_in,c_in,rho_in,Q_in,v_in,x,y,dx,dy,nx,ny = models.single_wire(glass=glass,half_width=half_width)\n",
    "\n",
    "#Use microns as units for plotting\n",
    "x = x*1e6\n",
    "y = y*1e6"
   ]
  },
  {
   "cell_type": "code",
   "execution_count": 2,
   "metadata": {},
   "outputs": [],
   "source": [
    "##Builds up the dictionaries of thermal parameters\n",
    "\n",
    "k = {}\n",
    "c = {}\n",
    "rho = {}\n",
    "\n",
    "filename = basepath+\"/src/thermal_properties.csv\"\n",
    "\n",
    "with open(filename,'r') as f:\n",
    "    csvreader = csv.DictReader(f)\n",
    "    for row in csvreader:\n",
    "        k[row['material']]= float(row['thermal_conductivity'])\n",
    "        c[row['material']]= float(row['specific_heat'])\n",
    "        rho[row['material']]= float(row['density'])"
   ]
  },
  {
   "cell_type": "markdown",
   "metadata": {},
   "source": [
    "## Plot heat sources/sinks"
   ]
  },
  {
   "cell_type": "code",
   "execution_count": 3,
   "metadata": {},
   "outputs": [
    {
     "data": {
      "image/png": "[encoded data removed]",
      "text/plain": [
       "<Figure size 432x288 with 2 Axes>"
      ]
     },
     "metadata": {
      "needs_background": "light"
     },
     "output_type": "display_data"
    }
   ],
   "source": [
    "fig,ax=plt.subplots(1,1,figsize=[6,4])\n",
    "\n",
    "myplot = ax.pcolor(x,y,Q_in.T,shading='auto')\n",
    "ax.set_xlim(x.min(),x.max())\n",
    "ax.set_ylim(y.min(),y.max())\n",
    "ax.set_xlabel('x ($\\mu$m)')\n",
    "ax.set_ylabel('y ($\\mu$m)')\n",
    "cbar = fig.colorbar(myplot)\n",
    "cbar.set_label('q (W/m)')\n",
    "fig.tight_layout()\n",
    "\n",
    "if save_file==True:\n",
    "    fig.savefig(figpath+ '/'+save_name+'_q.png',dpi=300)"
   ]
  },
  {
   "cell_type": "markdown",
   "metadata": {},
   "source": [
    "## Plot thermal conductivities"
   ]
  },
  {
   "cell_type": "code",
   "execution_count": 4,
   "metadata": {},
   "outputs": [
    {
     "data": {
      "image/png": "[encoded data removed]",
      "text/plain": [
       "<Figure size 432x288 with 2 Axes>"
      ]
     },
     "metadata": {
      "needs_background": "light"
     },
     "output_type": "display_data"
    }
   ],
   "source": [
    "fig,ax=plt.subplots(1,1,figsize=[6,4])\n",
    "\n",
    "myplot = ax.pcolor(x[::1],y[::1],k_in.T[::1,::1],shading='auto',norm=LogNorm(vmin=k_in.min(),vmax=k_in.max()))\n",
    "ax.set_xlim(x.min(),x.max())\n",
    "ax.set_ylim(y.min(),y.max())\n",
    "ax.set_xlabel('x ($\\mu$m)')\n",
    "ax.set_ylabel('y ($\\mu$m)')\n",
    "cbar = fig.colorbar(myplot)\n",
    "cbar.set_label('$\\kappa$ (W/m/K)')\n",
    "\n",
    "\n",
    "fig.tight_layout()\n",
    "if save_file==True:\n",
    "    fig.savefig(figpath+'/'+save_name+'_kappa.png',dpi=300)"
   ]
  },
  {
   "cell_type": "markdown",
   "metadata": {},
   "source": [
    "## Solve the PDE at different excitation frequencies"
   ]
  },
  {
   "cell_type": "code",
   "execution_count": 5,
   "metadata": {},
   "outputs": [],
   "source": [
    "freqs = np.logspace(0,3,9)\n",
    "\n",
    "out = []\n",
    "\n",
    "for freq in freqs:\n",
    "    k_in,c_in,rho_in,Q_in,v_in,x,y,dx,dy,nx,ny = models.single_wire(glass=glass,half_width = half_width)\n",
    "    pf = PoissonFlow2D(Q_in,k_in,v_in,dx,dy,c_in,rho_in,freq)\n",
    "    out.append(pf.sparseSolve())"
   ]
  },
  {
   "cell_type": "markdown",
   "metadata": {},
   "source": [
    "## The temperatures\n",
    "\n",
    "The real and imaginary parts of the average temperature over the heater."
   ]
  },
  {
   "cell_type": "code",
   "execution_count": 6,
   "metadata": {
    "scrolled": true
   },
   "outputs": [],
   "source": [
    "Ts_real = []\n",
    "Ts_imag = []\n",
    "\n",
    "for i,freq in enumerate(freqs):\n",
    "    T_real = np.average(out[i].real[(200-half_width):(200+half_width),99:100])\n",
    "    Ts_real.append(T_real)\n",
    "    T_imag = np.average(out[i].imag[(200-half_width):(200+half_width),99:100])\n",
    "    Ts_imag.append(T_imag)"
   ]
  },
  {
   "cell_type": "markdown",
   "metadata": {},
   "source": [
    "## Analytic solution 1\n",
    "For an infinitely narrow heater over a semi-infinite half-volume. Cahill equation 1 - from Carslaw and Jaeger."
   ]
  },
  {
   "cell_type": "code",
   "execution_count": 7,
   "metadata": {},
   "outputs": [
    {
     "name": "stdout",
     "output_type": "stream",
     "text": [
      "Thermal conductivity used in simulation = 1.3 W/m/K\n"
     ]
    }
   ],
   "source": [
    "\n",
    "P = np.sum(Q_in)# power per unit length\n",
    "\n",
    "kappa = k['silicon_dioxide']\n",
    "print('Thermal conductivity used in simulation = {} W/m/K'.format(kappa))\n",
    "D = k['silicon_dioxide']/c['silicon_dioxide']/rho['silicon_dioxide']\n",
    "\n",
    "r = 1e-6 #Temperature at this distance from the heater\n",
    "q = np.sqrt(2j*2*np.pi*freqs/D)\n",
    "y_vals = P/(kappa*np.pi)*special.kv(0,q*r)"
   ]
  },
  {
   "cell_type": "markdown",
   "metadata": {},
   "source": [
    "## Analytic solution 2\n",
    "Integrates the Carslaw and Jaeger expression over a heater of finite width. Cahill equation 8. "
   ]
  },
  {
   "cell_type": "code",
   "execution_count": 8,
   "metadata": {},
   "outputs": [],
   "source": [
    "width = half_width*2*dx\n",
    "integral = []\n",
    "for i in range(0,len(freqs)):\n",
    "    invexp = lambda k: P/kappa/np.pi*np.sin(width/2*k)**2/(width/2*k)**2/np.sqrt(k**2+q[i].real**2)\n",
    "    I=integrate.quad(invexp,0,10000000)\n",
    "    integral.append(I[0])\n",
    "    "
   ]
  },
  {
   "cell_type": "markdown",
   "metadata": {},
   "source": [
    "## Plots the analytic and simulated solutions"
   ]
  },
  {
   "cell_type": "code",
   "execution_count": 9,
   "metadata": {},
   "outputs": [
    {
     "data": {
      "text/plain": [
       "<matplotlib.legend.Legend at 0x7fe313d09730>"
      ]
     },
     "execution_count": 9,
     "metadata": {},
     "output_type": "execute_result"
    },
    {
     "data": {
      "image/png": "[encoded data removed]",
      "text/plain": [
       "<Figure size 432x288 with 1 Axes>"
      ]
     },
     "metadata": {
      "needs_background": "light"
     },
     "output_type": "display_data"
    }
   ],
   "source": [
    "fig,ax=plt.subplots(1,1,figsize=[6,4])\n",
    "ax.semilogx(freqs,Ts_real,'.',markersize=12,color='b',label='Re[Sim.]')\n",
    "ax.semilogx(freqs,Ts_imag,'.',markersize=12,color='m',label='Im[Sim.]')    \n",
    "\n",
    "ax.semilogx(freqs,integral,linewidth=2,label='Re[Ana.]',color='b')\n",
    "\n",
    "ax.set_ylabel('$\\Delta T$ (K)')\n",
    "ax.set_xlabel('f (Hz)')\n",
    "fig.legend(frameon = False,loc = [0.65,0.65])"
   ]
  },
  {
   "cell_type": "markdown",
   "metadata": {},
   "source": [
    "## Figure out thermal conductivity"
   ]
  },
  {
   "cell_type": "code",
   "execution_count": 10,
   "metadata": {},
   "outputs": [
    {
     "name": "stdout",
     "output_type": "stream",
     "text": [
      "Thermal conductivity = 1.313 W/m/K\n"
     ]
    },
    {
     "data": {
      "text/plain": [
       "<matplotlib.legend.Legend at 0x7fe2f358d310>"
      ]
     },
     "execution_count": 10,
     "metadata": {},
     "output_type": "execute_result"
    },
    {
     "data": {
      "image/png": "[encoded data removed]",
      "text/plain": [
       "<Figure size 432x288 with 1 Axes>"
      ]
     },
     "metadata": {
      "needs_background": "light"
     },
     "output_type": "display_data"
    }
   ],
   "source": [
    "def log_fit(x,a,b):\n",
    "    return a*np.log(x)+b\n",
    "\n",
    "popt,pcov = curve_fit(log_fit,freqs[2:6],Ts_real[2:6])\n",
    "\n",
    "print('Thermal conductivity = {:0.3f} W/m/K'.format(-P/np.pi/popt[0]/2))\n",
    "\n",
    "fig,ax=plt.subplots(1,1,figsize=[6,4])\n",
    "ax.semilogx(freqs,Ts_real,'.',markersize=12,color='b',label='Re[Sim.]')\n",
    "ax.semilogx(freqs,Ts_imag,'.',markersize=12,color='m',label='Im[Sim.]')    \n",
    "\n",
    "ax.semilogx(freqs,log_fit(np.array(freqs),*popt), linewidth = 2, alpha = 1, color='r',label = 'fit')\n",
    "\n",
    "ax.set_ylabel('$\\Delta T$ (K)')\n",
    "ax.set_xlabel('f (Hz)')\n",
    "fig.legend(frameon = False,loc = [0.62,0.65])"
   ]
  },
  {
   "cell_type": "code",
   "execution_count": null,
   "metadata": {},
   "outputs": [],
   "source": []
  }
 ],
 "metadata": {
  "kernelspec": {
   "display_name": "Python 3 (ipykernel)",
   "language": "python",
   "name": "python3"
  },
  "language_info": {
   "codemirror_mode": {
    "name": "ipython",
    "version": 3
   },
   "file_extension": ".py",
   "mimetype": "text/x-python",
   "name": "python",
   "nbconvert_exporter": "python",
   "pygments_lexer": "ipython3",
   "version": "3.8.5"
  }
 },
 "nbformat": 4,
 "nbformat_minor": 1
}
